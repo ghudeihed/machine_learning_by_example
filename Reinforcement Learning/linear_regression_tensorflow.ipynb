{
  "nbformat": 4,
  "nbformat_minor": 0,
  "metadata": {
    "colab": {
      "provenance": []
    },
    "kernelspec": {
      "name": "python3",
      "display_name": "Python 3"
    },
    "language_info": {
      "name": "python"
    }
  },
  "cells": [
    {
      "cell_type": "code",
      "execution_count": 1,
      "metadata": {
        "colab": {
          "base_uri": "https://localhost:8080/",
          "height": 1000
        },
        "id": "_AM8SgY9IVZf",
        "outputId": "33ff2e14-fe82-418f-dbee-ad46b6c2fef4"
      },
      "outputs": [
        {
          "output_type": "display_data",
          "data": {
            "text/plain": [
              "<Figure size 432x288 with 1 Axes>"
            ],
            "image/png": "[encoded data removed]"
          },
          "metadata": {
            "needs_background": "light"
          }
        },
        {
          "output_type": "stream",
          "name": "stdout",
          "text": [
            "4/4 [==============================] - 0s 3ms/step\n",
            "R^2 Score: 0.9984\n"
          ]
        },
        {
          "output_type": "display_data",
          "data": {
            "text/plain": [
              "<Figure size 432x288 with 1 Axes>"
            ],
            "image/png": "[encoded data removed]"
          },
          "metadata": {
            "needs_background": "light"
          }
        },
        {
          "output_type": "stream",
          "name": "stdout",
          "text": [
            "R^2 Score: 0.9984\n"
          ]
        },
        {
          "output_type": "display_data",
          "data": {
            "text/plain": [
              "<Figure size 432x288 with 1 Axes>"
            ],
            "image/png": "[encoded data removed]"
          },
          "metadata": {
            "needs_background": "light"
          }
        },
        {
          "output_type": "stream",
          "name": "stdout",
          "text": [
            "Model saved to linear_regression_model.h5\n",
            "Info of the original model:\n",
            "Model: \"sequential\"\n",
            "_________________________________________________________________\n",
            " Layer (type)                Output Shape              Param #   \n",
            "=================================================================\n",
            " dense (Dense)               (None, 1)                 2         \n",
            "                                                                 \n",
            "=================================================================\n",
            "Total params: 2\n",
            "Trainable params: 2\n",
            "Non-trainable params: 0\n",
            "_________________________________________________________________\n",
            "None\n",
            "Model parameters:\n",
            "dense: True\n",
            "================================================\n",
            "================================================\n",
            "================================================\n",
            "Info of the loaded model:\n",
            "Model: \"sequential\"\n",
            "_________________________________________________________________\n",
            " Layer (type)                Output Shape              Param #   \n",
            "=================================================================\n",
            " dense (Dense)               (None, 1)                 2         \n",
            "                                                                 \n",
            "=================================================================\n",
            "Total params: 2\n",
            "Trainable params: 2\n",
            "Non-trainable params: 0\n",
            "_________________________________________________________________\n",
            "None\n",
            "Model parameters:\n",
            "dense: True\n",
            "================================================\n",
            "================================================\n",
            "================================================\n",
            "Comparing the original model with the loaded model:\n",
            "The two models have different parameters.\n"
          ]
        },
        {
          "output_type": "execute_result",
          "data": {
            "text/plain": [
              "False"
            ]
          },
          "metadata": {},
          "execution_count": 1
        }
      ],
      "source": [
        "import os\n",
        "import tensorflow as tf\n",
        "import numpy as np\n",
        "import matplotlib.pyplot as plt\n",
        "from tensorflow.keras.models import load_model\n",
        "\n",
        "def create_dataset(num_samples, num_features):\n",
        "    x = np.random.randn(num_samples, num_features)\n",
        "    y = 3 * x + 1 + np.random.randn(num_samples, num_features) * 0.1\n",
        "    return x, y\n",
        "\n",
        "def plot_data(x, y, y_pred=None):\n",
        "    plt.scatter(x, y)\n",
        "    if y_pred is not None:\n",
        "        plt.plot(x, y_pred, color='red')\n",
        "    plt.xlabel('x')\n",
        "    plt.ylabel('y')\n",
        "    plt.show()\n",
        "\n",
        "def create_linear_regression_model(num_features):\n",
        "    model = tf.keras.Sequential()\n",
        "    model.add(tf.keras.layers.Dense(1, input_shape=(num_features,)))\n",
        "    return model\n",
        "\n",
        "def compile_model(model, learning_rate):\n",
        "    optimizer = tf.keras.optimizers.SGD(learning_rate)\n",
        "    loss_fn = tf.keras.losses.MeanSquaredError()\n",
        "    model.compile(optimizer=optimizer, loss=loss_fn, metrics=['mse'])\n",
        "\n",
        "def train_model(model, x_train, y_train, num_epochs):\n",
        "    return model.fit(x_train, y_train, epochs=num_epochs, verbose=0)\n",
        "\n",
        "def evaluate_model(model, x_train, y_train):\n",
        "    mse_value = model.evaluate(x_train, y_train, verbose=0)[0]\n",
        "    y_pred = model.predict(x_train)\n",
        "    r2_score = 1 - mse_value / np.var(y_train)\n",
        "    return y_pred, r2_score\n",
        "\n",
        "def plot_loss(history, num_epochs):\n",
        "    plt.plot(range(num_epochs), history.history['loss'])\n",
        "    plt.xlabel('Epoch')\n",
        "    plt.ylabel('Loss')\n",
        "    plt.show()\n",
        "\n",
        "def save_trained_model(model, model_path):\n",
        "    model.save(model_path)\n",
        "    print(f\"Model saved to {model_path}\")\n",
        "\n",
        "def load_saved_model(model_path):\n",
        "    return load_model(model_path)\n",
        "\n",
        "def print_model_info(model):\n",
        "    print(model.summary())\n",
        "    print('Model parameters:')\n",
        "    for layer in model.layers:\n",
        "        print(f'{layer.name}: {layer.trainable}')\n",
        "\n",
        "def compare_models(model1, model2):\n",
        "    if model1.count_params() != model2.count_params():\n",
        "        print(\"The two models have different numbers of parameters.\")\n",
        "        return False\n",
        "    \n",
        "    for p1, p2 in zip(model1.get_weights(), model2.get_weights()):\n",
        "        if np.array_equal(p1, p2):\n",
        "            print(\"The two models have different parameters.\")\n",
        "            return False\n",
        "    \n",
        "    print(\"The two models have the same parameters.\")\n",
        "    return True\n",
        "\n",
        "# 1. Create a supervised linear regression dataset\n",
        "num_samples = 100\n",
        "num_features = 1\n",
        "x_train, y_train = create_dataset(num_samples, num_features)\n",
        "\n",
        "# 2. Plot the relationship\n",
        "plot_data(x_train, y_train)\n",
        "\n",
        "# 3. Create the linear regression model\n",
        "model = create_linear_regression_model(num_features)\n",
        "\n",
        "# 4. Compile the model\n",
        "learning_rate = 0.01\n",
        "compile_model(model, learning_rate)\n",
        "\n",
        "# 5. Train the model\n",
        "num_epochs = 100\n",
        "history = train_model(model, x_train, y_train, num_epochs)\n",
        "\n",
        "# 6. Evaluate the model\n",
        "y_pred, r2_score = evaluate_model(model, x_train, y_train)\n",
        "print(f\"R^2 Score: {r2_score:.4f}\")\n",
        "\n",
        "# 7. Visualize the dataset and the prediction line\n",
        "plot_data(x_train, y_train, y_pred)\n",
        "\n",
        "# 8. Calculate the R^2 score\n",
        "print(f\"R^2 Score: {r2_score:.4f}\")\n",
        "\n",
        "# 9. Plot the loss over epochs\n",
        "plot_loss(history, num_epochs)\n",
        "\n",
        "# 10. Save the trained model\n",
        "model_path = 'linear_regression_model.h5'\n",
        "save_trained_model(model, model_path)\n",
        "\n",
        "# 11. Load the saved model\n",
        "loaded_model = load_saved_model(model_path)\n",
        "\n",
        "# 12. Print the info of the original model\n",
        "print(\"Info of the original model:\")\n",
        "print_model_info(model)\n",
        "\n",
        "print(\"================================================\\n================================================\\n================================================\")\n",
        "# 13. Print the info of the loaded model\n",
        "print(\"Info of the loaded model:\")\n",
        "print_model_info(loaded_model)\n",
        "\n",
        "print(\"================================================\\n================================================\\n================================================\")\n",
        "# 14. Compare the original model with the loaded model\n",
        "print(\"Comparing the original model with the loaded model:\")\n",
        "compare_models(model, loaded_model)"
      ]
    },
    {
      "cell_type": "code",
      "source": [],
      "metadata": {
        "id": "qKoAKJJXIaZi"
      },
      "execution_count": 1,
      "outputs": []
    }
  ]
}