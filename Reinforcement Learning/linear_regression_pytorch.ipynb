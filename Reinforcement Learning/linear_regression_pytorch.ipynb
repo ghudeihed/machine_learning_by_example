{
  "nbformat": 4,
  "nbformat_minor": 0,
  "metadata": {
    "colab": {
      "provenance": []
    },
    "kernelspec": {
      "name": "python3",
      "display_name": "Python 3"
    },
    "language_info": {
      "name": "python"
    }
  },
  "cells": [
    {
      "cell_type": "code",
      "source": [
        "import torch\n",
        "import matplotlib.pyplot as plt\n",
        "\n",
        "def create_dataset(num_samples, num_features):\n",
        "    x = torch.randn(num_samples, num_features)\n",
        "    y = 3 * x + 1 + torch.randn(num_samples, num_features) * 0.1\n",
        "    return x, y\n",
        "\n",
        "def create_linear_regression_model(num_features):\n",
        "    return torch.nn.Linear(num_features, num_features)\n",
        "\n",
        "def train_model(model, x, y, num_epochs, learning_rate):\n",
        "    criterion = torch.nn.MSELoss()\n",
        "    optimizer = torch.optim.SGD(model.parameters(), lr=learning_rate)\n",
        "    loss_list = []\n",
        "\n",
        "    for epoch in range(num_epochs):\n",
        "        y_pred = model(x)\n",
        "        loss = criterion(y_pred, y)\n",
        "        optimizer.zero_grad()\n",
        "        loss.backward()\n",
        "        optimizer.step()\n",
        "        loss_list.append(loss.item())\n",
        "\n",
        "        if (epoch + 1) % 10 == 0:\n",
        "            print(f'Epoch [{epoch + 1}/{num_epochs}], Loss: {loss.item():.4f}')\n",
        "\n",
        "    return loss_list\n",
        "\n",
        "def plot_data(x, y, y_pred):\n",
        "    plt.scatter(x, y)\n",
        "    if y_pred is not None:\n",
        "        plt.plot(x, y_pred, color='red')\n",
        "    plt.xlabel('x')\n",
        "    plt.ylabel('y')\n",
        "    plt.show()\n",
        "\n",
        "\n",
        "def plot_loss(loss_list):\n",
        "    plt.plot(range(len(loss_list)), loss_list)\n",
        "    plt.xlabel('Epoch')\n",
        "    plt.ylabel('Loss')\n",
        "    plt.show()\n",
        "\n",
        "def save_model(model, file_path):\n",
        "    torch.save(model.state_dict(), file_path)\n",
        "    print(f'Model saved to {file_path}')\n",
        "\n",
        "def load_model(num_features, file_path):\n",
        "    model = create_linear_regression_model(num_features)\n",
        "    model.load_state_dict(torch.load(file_path))\n",
        "    model.eval()\n",
        "    print(f'Model loaded from {file_path}')\n",
        "    return model\n",
        "\n",
        "def show_model_info(model):\n",
        "    print(model)\n",
        "    print('Model parameters:')\n",
        "    for name, param in model.named_parameters():\n",
        "        print(f'{name}: {param.size()}')\n",
        "\n",
        "def compare_models(model, loaded_model):\n",
        "  for name, param in model.named_parameters():\n",
        "    print(f'{name}: original - {param} \\n loaded - {loaded_model.state_dict()[name]}')\n",
        "\n",
        "# 1. Create a supervised linear regression dataset\n",
        "num_samples = 100\n",
        "num_features = 1\n",
        "x, y = create_dataset(num_samples, num_features)\n",
        "\n",
        "# 2. Plot the relationship\n",
        "plot_data(x, y, None)\n",
        "\n",
        "# 3. Create the linear regression model\n",
        "model = create_linear_regression_model(num_features)\n",
        "\n",
        "# 4. Train the model\n",
        "num_epochs = 100\n",
        "learning_rate = 0.01\n",
        "loss_list = train_model(model, x, y, num_epochs, learning_rate)\n",
        "\n",
        "# 5. Evaluate the model\n",
        "model.eval()\n",
        "with torch.no_grad():\n",
        "    y_pred = model(x)\n",
        "    r2_score = 1 - loss_list[-1] / torch.var(y)\n",
        "    print(f'R^2 Score: {r2_score:.4f}')\n",
        "\n",
        "# 6. Visualize the dataset and the prediction line\n",
        "plot_data(x, y, y_pred)\n",
        "\n",
        "# 7. Calculate the R^2 score\n",
        "print(f'R^2 Score: {r2_score:.4f}')\n",
        "\n",
        "# 8. Plot the loss over epochs\n",
        "plot_loss(loss_list)\n",
        "\n",
        "# 9. Save the model\n",
        "file_path = 'linear_regression_model.pt'\n",
        "save_model(model, file_path)\n",
        "\n",
        "# 10. Load the model and make predictions\n",
        "loaded_model = load_model(num_features, file_path)\n",
        "loaded_model.eval()\n",
        "with torch.no_grad():\n",
        "    y_pred_loaded = loaded_model(x)\n",
        "plot_data(x, y, y_pred_loaded)\n",
        "\n",
        "# 11. Show the information of the original model\n",
        "print(\"Show the information of the original model\")\n",
        "show_model_info(model)\n",
        "\n",
        "# 12. Show the information of the loaded_model\n",
        "print(\"Show the information of the loaded_model\")\n",
        "show_model_info(loaded_model)\n",
        "\n",
        "# 13. Compare the parameters of the two models\n",
        "print(\"Comparing the parameters of the two models:\")\n",
        "compare_models(model, loaded_model)"
      ],
      "metadata": {
        "colab": {
          "base_uri": "https://localhost:8080/",
          "height": 1000
        },
        "id": "5Tzj4KvGxREJ",
        "outputId": "e8f937d3-5887-40c8-a295-7abac0e44e63"
      },
      "execution_count": 1,
      "outputs": [
        {
          "output_type": "display_data",
          "data": {
            "text/plain": [
              "<Figure size 432x288 with 1 Axes>"
            ],
            "image/png": "[encoded data removed]"
          },
          "metadata": {
            "needs_background": "light"
          }
        },
        {
          "output_type": "stream",
          "name": "stdout",
          "text": [
            "Epoch [10/100], Loss: 3.4045\n",
            "Epoch [20/100], Loss: 2.1657\n",
            "Epoch [30/100], Loss: 1.3797\n",
            "Epoch [40/100], Loss: 0.8808\n",
            "Epoch [50/100], Loss: 0.5639\n",
            "Epoch [60/100], Loss: 0.3626\n",
            "Epoch [70/100], Loss: 0.2347\n",
            "Epoch [80/100], Loss: 0.1533\n",
            "Epoch [90/100], Loss: 0.1015\n",
            "Epoch [100/100], Loss: 0.0686\n",
            "R^2 Score: 0.9934\n"
          ]
        },
        {
          "output_type": "display_data",
          "data": {
            "text/plain": [
              "<Figure size 432x288 with 1 Axes>"
            ],
            "image/png": "[encoded data removed]"
          },
          "metadata": {
            "needs_background": "light"
          }
        },
        {
          "output_type": "stream",
          "name": "stdout",
          "text": [
            "R^2 Score: 0.9934\n"
          ]
        },
        {
          "output_type": "display_data",
          "data": {
            "text/plain": [
              "<Figure size 432x288 with 1 Axes>"
            ],
            "image/png": "[encoded data removed]"
          },
          "metadata": {
            "needs_background": "light"
          }
        },
        {
          "output_type": "stream",
          "name": "stdout",
          "text": [
            "Model saved to linear_regression_model.pt\n",
            "Model loaded from linear_regression_model.pt\n"
          ]
        },
        {
          "output_type": "display_data",
          "data": {
            "text/plain": [
              "<Figure size 432x288 with 1 Axes>"
            ],
            "image/png": "[encoded data removed]"
          },
          "metadata": {
            "needs_background": "light"
          }
        },
        {
          "output_type": "stream",
          "name": "stdout",
          "text": [
            "Show the information of the original model\n",
            "Linear(in_features=1, out_features=1, bias=True)\n",
            "Model parameters:\n",
            "weight: torch.Size([1, 1])\n",
            "bias: torch.Size([1])\n",
            "Show the information of the loaded_model\n",
            "Linear(in_features=1, out_features=1, bias=True)\n",
            "Model parameters:\n",
            "weight: torch.Size([1, 1])\n",
            "bias: torch.Size([1])\n",
            "Comparing the parameters of the two models:\n",
            "weight: original - Parameter containing:\n",
            "tensor([[2.7962]], requires_grad=True) \n",
            " loaded - tensor([[2.7962]])\n",
            "bias: original - Parameter containing:\n",
            "tensor([0.9047], requires_grad=True) \n",
            " loaded - tensor([0.9047])\n"
          ]
        }
      ]
    }
  ]
}